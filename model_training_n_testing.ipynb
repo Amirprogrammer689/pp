{
 "cells": [
  {
   "cell_type": "markdown",
   "metadata": {},
   "source": [
    "Lab 5\n",
    "var 5\n",
    "Model training and testing."
   ]
  },
  {
   "cell_type": "markdown",
   "metadata": {},
   "source": [
    "Библиотеки"
   ]
  },
  {
   "cell_type": "code",
   "execution_count": null,
   "metadata": {},
   "outputs": [],
   "source": [
    "import torch\n",
    "import os\n",
    "import pandas as pd\n",
    "import cv2\n",
    "import glob\n",
    "from sklearn.model_selection import train_test_split\n",
    "import numpy as np\n",
    "import matplotlib.pyplot as plt\n",
    "from torchvision import transforms\n",
    "from PIL import Image "
   ]
  },
  {
   "cell_type": "code",
   "execution_count": null,
   "metadata": {},
   "outputs": [],
   "source": [
    "device = 'cuda' if torch.cuda.is_available() else 'cpu'\n",
    "torch.manual_seed(1234)\n",
    "if device =='cuda':\n",
    "torch.cuda.manual_seed_all(1234)\n",
    "print(device)"
   ]
  },
  {
   "cell_type": "markdown",
   "metadata": {},
   "source": [
    "Разделение набора данных на выборки"
   ]
  },
  {
   "cell_type": "code",
   "execution_count": null,
   "metadata": {},
   "outputs": [],
   "source": [
    "# Define paths\n",
    "val_path = os.path.abspath('val_list')\n",
    "test_path = os.path.abspath('test_list')\n",
    "train_path = os.path.abspath('train_list')\n",
    "\n",
    "# Read and preprocess the CSV file\n",
    "df = pd.read_csv('annotations_3.csv', sep=',', header=None)\n",
    "df = df.drop(df.index[0])\n",
    "df.drop(0, axis=1, inplace=True)\n",
    "df.rename(columns={1: 'Absolute_path', 2: 'Class'}, inplace=True)\n",
    "df.reset_index(inplace=True)\n",
    "print(df)\n",
    "\n",
    "# Create directories if they do not exist\n",
    "for path in [val_path, test_path, train_path]:\n",
    "if not os.path.isdir(path):\n",
    "os.mkdir(path)\n",
    "\n",
    "# Function to load and save images\n",
    "def load_image(df, path, i):\n",
    "image_path = os.path.abspath(os.path.join(*df.Absolute_path[i].split(\"\\\\\")))\n",
    "image = cv2.imread(image_path)\n",
    "cv2.imwrite(os.path.join(path, f'{i}.jpg'), image)\n",
    "\n",
    "# Process images based on ranges\n",
    "for i in range(900, 1000):\n",
    "load_image(df, val_path, i)\n",
    "for i in range(1900, 1999):\n",
    "load_image(df, val_path, i)\n",
    "for i in range(800, 900):\n",
    "load_image(df, test_path, i)\n",
    "for i in range(1800, 1900):\n",
    "load_image(df, test_path, i)\n",
    "for i in range(800):\n",
    "load_image(df, train_path, i)\n",
    "\n",
    "# Create lists of image files and split the training list\n",
    "train_list = glob.glob(os.path.join(train_path, '*.jpg'))\n",
    "test_list = glob.glob(os.path.join(test_path, '*.jpg'))\n",
    "\n",
    "train_list, val_list = train_test_split(train_list, test_size=0.1)"
   ]
  },
  {
   "cell_type": "markdown",
   "metadata": {},
   "source": [
    "Проверка"
   ]
  },
  {
   "cell_type": "code",
   "execution_count": null,
   "metadata": {},
   "outputs": [],
   "source": [
    "random_idx = np.random.choice(200, size=10, replace=False)\n",
    "\n",
    "fig, axes = plt.subplots(2, 5)\n",
    "for i, ax in enumerate(axes.flat):\n",
    "img = cv2.imread(train_list[random_idx[i]])\n",
    "ax.imshow(cv2.cvtColor(img, cv2.COLOR_BGR2RGB))\n",
    "\n",
    "plt.show()"
   ]
  },
  {
   "cell_type": "markdown",
   "metadata": {},
   "source": [
    "Увелечение изображений"
   ]
  },
  {
   "cell_type": "code",
   "execution_count": null,
   "metadata": {},
   "outputs": [],
   "source": [
    "common_transforms = [\n",
    "transforms.Resize((224, 224)),\n",
    "transforms.RandomResizedCrop(224),\n",
    "transforms.RandomHorizontalFlip(),\n",
    "transforms.ToTensor()\n",
    "]\n",
    "\n",
    "train_transforms = transforms.Compose(common_transforms)\n",
    "val_transforms = transforms.Compose(common_transforms)\n",
    "test_transforms = transforms.Compose(common_transforms)"
   ]
  },
  {
   "cell_type": "markdown",
   "metadata": {},
   "source": [
    "Загрузка "
   ]
  },
  {
   "cell_type": "code",
   "execution_count": null,
   "metadata": {},
   "outputs": [],
   "source": [
    "class CustomDataset(torch.utils.data.Dataset):\n",
    "def __init__(self, file_list, transform=None):\n",
    "self.file_list = file_list\n",
    "self.transform = transform\n",
    "\n",
    "def __len__(self):\n",
    "return len(self.file_list)\n",
    "\n",
    "def __getitem__(self, idx):\n",
    "img_path = self.file_list[idx]\n",
    "img = Image.open(img_path)\n",
    "\n",
    "if self.transform:\n",
    "img_transformed = self.transform(img)\n",
    "else:\n",
    "img_transformed = img\n",
    "label = 1 if 'brown bear' in img_path else 0 # Assuming file names contain 'dog' or 'cat'\n",
    "\n",
    "return img_transformed, label"
   ]
  },
  {
   "cell_type": "code",
   "execution_count": null,
   "metadata": {},
   "outputs": [],
   "source": [
    "train_data = CustomDataset(train_list, transform=train_transforms)\n",
    "test_data = CustomDataset(test_list, transform=test_transforms)\n",
    "val_data = CustomDataset(val_list, transform=val_transforms)"
   ]
  },
  {
   "cell_type": "markdown",
   "metadata": {},
   "source": [
    "Проверка"
   ]
  },
  {
   "cell_type": "code",
   "execution_count": null,
   "metadata": {},
   "outputs": [],
   "source": [
    "print(train_data[1])\n",
    "print(val_data[0][1])"
   ]
  }
 ],
 "metadata": {
  "kernelspec": {
   "display_name": ".venv",
   "language": "python",
   "name": "python3"
  },
  "language_info": {
   "name": "python",
   "version": "3.11.5"
  }
 },
 "nbformat": 4,
 "nbformat_minor": 2
}
